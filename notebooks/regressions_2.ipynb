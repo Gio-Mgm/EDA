{
 "metadata": {
  "language_info": {
   "codemirror_mode": {
    "name": "ipython",
    "version": 3
   },
   "file_extension": ".py",
   "mimetype": "text/x-python",
   "name": "python",
   "nbconvert_exporter": "python",
   "pygments_lexer": "ipython3",
   "version": "3.9.0"
  },
  "orig_nbformat": 2,
  "kernelspec": {
   "name": "python3",
   "display_name": "Python 3",
   "language": "python"
  }
 },
 "nbformat": 4,
 "nbformat_minor": 2,
 "cells": [
  {
   "cell_type": "code",
   "execution_count": 2,
   "metadata": {},
   "outputs": [],
   "source": [
    "import sys\n",
    "sys.path.append(\"../src\")\n",
    "\n",
    "import pandas as pd\n",
    "import numpy as np\n",
    "from functions import *\n",
    "from sklearn.compose import make_column_transformer\n",
    "from sklearn.preprocessing import OneHotEncoder, LabelEncoder, StandardScaler\n",
    "from sklearn.linear_model import LinearRegression, Ridge, Lasso\n",
    "from sklearn.model_selection import train_test_split\n",
    "from sklearn.metrics import mean_squared_error, r2_score\n",
    "from sklearn.pipeline import make_pipeline\n"
   ]
  },
  {
   "cell_type": "code",
   "execution_count": 4,
   "metadata": {},
   "outputs": [
    {
     "output_type": "stream",
     "name": "stdout",
     "text": [
      "(1460, 81)\n"
     ]
    }
   ],
   "source": [
    "pd.set_option('display.float_format','{:.3f}'.format)\n",
    "pd.set_option('display.max_columns', 100)\n",
    "pd.set_option('display.max_rows', 100)\n",
    "\n",
    "df = pd.read_csv(\"../data/01_raw/data.csv\")\n",
    "print(df.shape)"
   ]
  },
  {
   "cell_type": "code",
   "execution_count": 54,
   "metadata": {},
   "outputs": [
    {
     "output_type": "stream",
     "name": "stdout",
     "text": [
      "0.88248 ('GarageArea', 'GarageCars')\n0.82567 ('GarageYrBlt', 'YearBuilt')\n0.82549 ('GrLivArea', 'TotRmsAbvGrd')\n0.81953 ('TotalBsmtSF', '1stFlrSF')\n0.79098 ('OverallQual', 'SalePrice')\n0.70862 ('SalePrice', 'GrLivArea')\n0.68750 ('2ndFlrSF', 'GrLivArea')\n0.67662 ('TotRmsAbvGrd', 'BedroomAbvGr')\n0.64921 ('BsmtFullBath', 'BsmtFinSF1')\n0.64228 ('YearRemodAdd', 'GarageYrBlt')\n"
     ]
    }
   ],
   "source": [
    "get_corr_pairs(df, 10)"
   ]
  },
  {
   "cell_type": "code",
   "execution_count": 54,
   "metadata": {},
   "outputs": [],
   "source": [
    "\n"
   ]
  },
  {
   "cell_type": "code",
   "execution_count": 55,
   "metadata": {},
   "outputs": [],
   "source": [
    "cat_cols = df.select_dtypes(include=\"O\").columns\n",
    "num_cols = df.select_dtypes(exclude=\"O\").columns"
   ]
  },
  {
   "cell_type": "code",
   "execution_count": 56,
   "metadata": {},
   "outputs": [],
   "source": [
    "df.loc[:,cat_cols] = df.loc[:,cat_cols].fillna(\"NaN\", axis=1)\n",
    "df.loc[:,[\"MasVnrArea\"]] = df.loc[:,[\"MasVnrArea\"]].fillna(0.0)\n",
    "df[\"GarageYrBlt\"] = np.where(df[\"GarageYrBlt\"].isna(), df[\"YearBuilt\"], df[\"GarageYrBlt\"])\n",
    "df[\"LotFrontage\"] = np.where(df[\"LotFrontage\"].isna(), df[\"YearBuilt\"].mean(), df[\"LotFrontage\"])"
   ]
  },
  {
   "cell_type": "code",
   "execution_count": 60,
   "metadata": {},
   "outputs": [
    {
     "output_type": "execute_result",
     "data": {
      "text/plain": [
       "   MSZoning  Street  Alley  LotShape  LandContour  Utilities  LotConfig  \\\n",
       "0         3       1      1         3            3          0          4   \n",
       "1         3       1      1         3            3          0          2   \n",
       "2         3       1      1         0            3          0          4   \n",
       "3         3       1      1         0            3          0          0   \n",
       "4         3       1      1         0            3          0          2   \n",
       "\n",
       "   LandSlope  Neighborhood  Condition1  Condition2  BldgType  HouseStyle  \\\n",
       "0          0             5           2           2         0           5   \n",
       "1          0            24           1           2         0           2   \n",
       "2          0             5           2           2         0           5   \n",
       "3          0             6           2           2         0           5   \n",
       "4          0            15           2           2         0           5   \n",
       "\n",
       "   RoofStyle  RoofMatl  Exterior1st  Exterior2nd  MasVnrType  ExterQual  \\\n",
       "0          1         1           12           13           1          2   \n",
       "1          1         1            8            8           3          3   \n",
       "2          1         1           12           13           1          2   \n",
       "3          1         1           13           15           3          3   \n",
       "4          1         1           12           13           1          2   \n",
       "\n",
       "   ExterCond  Foundation  BsmtQual  BsmtCond  BsmtExposure  BsmtFinType1  \\\n",
       "0          4           2         2         4             4             2   \n",
       "1          4           1         2         4             1             0   \n",
       "2          4           2         2         4             2             2   \n",
       "3          4           0         4         1             4             0   \n",
       "4          4           2         2         4             0             2   \n",
       "\n",
       "   BsmtFinType2  Heating  HeatingQC  CentralAir  Electrical  KitchenQual  \\\n",
       "0             6        1          0           1           5            2   \n",
       "1             6        1          0           1           5            3   \n",
       "2             6        1          0           1           5            2   \n",
       "3             6        1          2           1           5            2   \n",
       "4             6        1          0           1           5            2   \n",
       "\n",
       "   Functional  FireplaceQu  GarageType  GarageFinish  GarageQual  GarageCond  \\\n",
       "0           6            3           1             2           5           5   \n",
       "1           6            5           1             2           5           5   \n",
       "2           6            5           1             2           5           5   \n",
       "3           6            2           5             3           5           5   \n",
       "4           6            5           1             2           5           5   \n",
       "\n",
       "   PavedDrive  PoolQC  Fence  MiscFeature  SaleType  SaleCondition  \n",
       "0           2       3      4            1         8              4  \n",
       "1           2       3      4            1         8              4  \n",
       "2           2       3      4            1         8              4  \n",
       "3           2       3      4            1         8              0  \n",
       "4           2       3      4            1         8              4  "
      ],
      "text/html": "<div>\n<style scoped>\n    .dataframe tbody tr th:only-of-type {\n        vertical-align: middle;\n    }\n\n    .dataframe tbody tr th {\n        vertical-align: top;\n    }\n\n    .dataframe thead th {\n        text-align: right;\n    }\n</style>\n<table border=\"1\" class=\"dataframe\">\n  <thead>\n    <tr style=\"text-align: right;\">\n      <th></th>\n      <th>MSZoning</th>\n      <th>Street</th>\n      <th>Alley</th>\n      <th>LotShape</th>\n      <th>LandContour</th>\n      <th>Utilities</th>\n      <th>LotConfig</th>\n      <th>LandSlope</th>\n      <th>Neighborhood</th>\n      <th>Condition1</th>\n      <th>Condition2</th>\n      <th>BldgType</th>\n      <th>HouseStyle</th>\n      <th>RoofStyle</th>\n      <th>RoofMatl</th>\n      <th>Exterior1st</th>\n      <th>Exterior2nd</th>\n      <th>MasVnrType</th>\n      <th>ExterQual</th>\n      <th>ExterCond</th>\n      <th>Foundation</th>\n      <th>BsmtQual</th>\n      <th>BsmtCond</th>\n      <th>BsmtExposure</th>\n      <th>BsmtFinType1</th>\n      <th>BsmtFinType2</th>\n      <th>Heating</th>\n      <th>HeatingQC</th>\n      <th>CentralAir</th>\n      <th>Electrical</th>\n      <th>KitchenQual</th>\n      <th>Functional</th>\n      <th>FireplaceQu</th>\n      <th>GarageType</th>\n      <th>GarageFinish</th>\n      <th>GarageQual</th>\n      <th>GarageCond</th>\n      <th>PavedDrive</th>\n      <th>PoolQC</th>\n      <th>Fence</th>\n      <th>MiscFeature</th>\n      <th>SaleType</th>\n      <th>SaleCondition</th>\n    </tr>\n  </thead>\n  <tbody>\n    <tr>\n      <th>0</th>\n      <td>3</td>\n      <td>1</td>\n      <td>1</td>\n      <td>3</td>\n      <td>3</td>\n      <td>0</td>\n      <td>4</td>\n      <td>0</td>\n      <td>5</td>\n      <td>2</td>\n      <td>2</td>\n      <td>0</td>\n      <td>5</td>\n      <td>1</td>\n      <td>1</td>\n      <td>12</td>\n      <td>13</td>\n      <td>1</td>\n      <td>2</td>\n      <td>4</td>\n      <td>2</td>\n      <td>2</td>\n      <td>4</td>\n      <td>4</td>\n      <td>2</td>\n      <td>6</td>\n      <td>1</td>\n      <td>0</td>\n      <td>1</td>\n      <td>5</td>\n      <td>2</td>\n      <td>6</td>\n      <td>3</td>\n      <td>1</td>\n      <td>2</td>\n      <td>5</td>\n      <td>5</td>\n      <td>2</td>\n      <td>3</td>\n      <td>4</td>\n      <td>1</td>\n      <td>8</td>\n      <td>4</td>\n    </tr>\n    <tr>\n      <th>1</th>\n      <td>3</td>\n      <td>1</td>\n      <td>1</td>\n      <td>3</td>\n      <td>3</td>\n      <td>0</td>\n      <td>2</td>\n      <td>0</td>\n      <td>24</td>\n      <td>1</td>\n      <td>2</td>\n      <td>0</td>\n      <td>2</td>\n      <td>1</td>\n      <td>1</td>\n      <td>8</td>\n      <td>8</td>\n      <td>3</td>\n      <td>3</td>\n      <td>4</td>\n      <td>1</td>\n      <td>2</td>\n      <td>4</td>\n      <td>1</td>\n      <td>0</td>\n      <td>6</td>\n      <td>1</td>\n      <td>0</td>\n      <td>1</td>\n      <td>5</td>\n      <td>3</td>\n      <td>6</td>\n      <td>5</td>\n      <td>1</td>\n      <td>2</td>\n      <td>5</td>\n      <td>5</td>\n      <td>2</td>\n      <td>3</td>\n      <td>4</td>\n      <td>1</td>\n      <td>8</td>\n      <td>4</td>\n    </tr>\n    <tr>\n      <th>2</th>\n      <td>3</td>\n      <td>1</td>\n      <td>1</td>\n      <td>0</td>\n      <td>3</td>\n      <td>0</td>\n      <td>4</td>\n      <td>0</td>\n      <td>5</td>\n      <td>2</td>\n      <td>2</td>\n      <td>0</td>\n      <td>5</td>\n      <td>1</td>\n      <td>1</td>\n      <td>12</td>\n      <td>13</td>\n      <td>1</td>\n      <td>2</td>\n      <td>4</td>\n      <td>2</td>\n      <td>2</td>\n      <td>4</td>\n      <td>2</td>\n      <td>2</td>\n      <td>6</td>\n      <td>1</td>\n      <td>0</td>\n      <td>1</td>\n      <td>5</td>\n      <td>2</td>\n      <td>6</td>\n      <td>5</td>\n      <td>1</td>\n      <td>2</td>\n      <td>5</td>\n      <td>5</td>\n      <td>2</td>\n      <td>3</td>\n      <td>4</td>\n      <td>1</td>\n      <td>8</td>\n      <td>4</td>\n    </tr>\n    <tr>\n      <th>3</th>\n      <td>3</td>\n      <td>1</td>\n      <td>1</td>\n      <td>0</td>\n      <td>3</td>\n      <td>0</td>\n      <td>0</td>\n      <td>0</td>\n      <td>6</td>\n      <td>2</td>\n      <td>2</td>\n      <td>0</td>\n      <td>5</td>\n      <td>1</td>\n      <td>1</td>\n      <td>13</td>\n      <td>15</td>\n      <td>3</td>\n      <td>3</td>\n      <td>4</td>\n      <td>0</td>\n      <td>4</td>\n      <td>1</td>\n      <td>4</td>\n      <td>0</td>\n      <td>6</td>\n      <td>1</td>\n      <td>2</td>\n      <td>1</td>\n      <td>5</td>\n      <td>2</td>\n      <td>6</td>\n      <td>2</td>\n      <td>5</td>\n      <td>3</td>\n      <td>5</td>\n      <td>5</td>\n      <td>2</td>\n      <td>3</td>\n      <td>4</td>\n      <td>1</td>\n      <td>8</td>\n      <td>0</td>\n    </tr>\n    <tr>\n      <th>4</th>\n      <td>3</td>\n      <td>1</td>\n      <td>1</td>\n      <td>0</td>\n      <td>3</td>\n      <td>0</td>\n      <td>2</td>\n      <td>0</td>\n      <td>15</td>\n      <td>2</td>\n      <td>2</td>\n      <td>0</td>\n      <td>5</td>\n      <td>1</td>\n      <td>1</td>\n      <td>12</td>\n      <td>13</td>\n      <td>1</td>\n      <td>2</td>\n      <td>4</td>\n      <td>2</td>\n      <td>2</td>\n      <td>4</td>\n      <td>0</td>\n      <td>2</td>\n      <td>6</td>\n      <td>1</td>\n      <td>0</td>\n      <td>1</td>\n      <td>5</td>\n      <td>2</td>\n      <td>6</td>\n      <td>5</td>\n      <td>1</td>\n      <td>2</td>\n      <td>5</td>\n      <td>5</td>\n      <td>2</td>\n      <td>3</td>\n      <td>4</td>\n      <td>1</td>\n      <td>8</td>\n      <td>4</td>\n    </tr>\n  </tbody>\n</table>\n</div>"
     },
     "metadata": {},
     "execution_count": 60
    }
   ],
   "source": [
    " y = df.SalePrice\n",
    " df_features = cat_cols\n",
    " X = df[df_features]\n",
    "\n",
    "le = LabelEncoder()\n",
    "X_2 = X.apply(le.fit_transform)\n",
    "X_2.head()\n",
    " \n",
    "\n"
   ]
  },
  {
   "cell_type": "code",
   "execution_count": null,
   "metadata": {},
   "outputs": [],
   "source": [
    "#  X_train, X_test, y_train, y_test = train_test_split(\n",
    "#      X, y, random_state=2\n",
    "#  )\n",
    "\n",
    "\n",
    "\n",
    "# # (StandardScaler(), num_cols),\n",
    "# preprocessor = make_column_transformer(\n",
    "#     (OneHotEncoder(), cat_cols),\n",
    "#     remainder='passthrough'\n",
    "# )\n",
    "\n",
    "# model = make_pipeline(\n",
    "#     preprocessor,\n",
    "#     LinearRegression()\n",
    "# )\n",
    "\n",
    "\n",
    "# _ = model.fit(X_train, y_train)\n",
    "\n",
    "# # Affichage des β1 pour chaque variable\n",
    "# for idx, name in enumerate(X_train.columns):\n",
    "#     print(f\"β1 de {name} : {round(_.coef_[idx], 3)}\")\n",
    "\n",
    "# print(f\"β0 (intercept_) : {round(_.intercept_, 3)}\\n\")\n",
    "\n",
    "# y_train_pred = _.predict(X_train)\n",
    "# y_test_pred = _.predict(X_test)\n",
    "\n",
    "# get_r2_rmse([y_train, y_train_pred, y_test, y_test_pred])"
   ]
  },
  {
   "cell_type": "code",
   "execution_count": null,
   "metadata": {},
   "outputs": [],
   "source": []
  }
 ]
}