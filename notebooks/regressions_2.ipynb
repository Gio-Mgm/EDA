{
 "metadata": {
  "language_info": {
   "codemirror_mode": {
    "name": "ipython",
    "version": 3
   },
   "file_extension": ".py",
   "mimetype": "text/x-python",
   "name": "python",
   "nbconvert_exporter": "python",
   "pygments_lexer": "ipython3",
   "version": "3.9.0"
  },
  "orig_nbformat": 2,
  "kernelspec": {
   "name": "python3",
   "display_name": "Python 3",
   "language": "python"
  }
 },
 "nbformat": 4,
 "nbformat_minor": 2,
 "cells": [
  {
   "cell_type": "code",
   "execution_count": 90,
   "metadata": {},
   "outputs": [],
   "source": [
    "import sys\n",
    "sys.path.append(\"../src\")\n",
    "\n",
    "import pandas as pd\n",
    "import numpy as np\n",
    "from functions import *\n",
    "from sklearn.compose import make_column_transformer\n",
    "from sklearn.preprocessing import OneHotEncoder, LabelEncoder, StandardScaler\n",
    "from sklearn.linear_model import LinearRegression, Ridge, RidgeCV, Lasso, LassoCV\n",
    "from sklearn.model_selection import train_test_split\n",
    "from sklearn.metrics import mean_squared_error, r2_score\n",
    "from sklearn.pipeline import make_pipeline\n"
   ]
  },
  {
   "cell_type": "code",
   "execution_count": 91,
   "metadata": {},
   "outputs": [
    {
     "output_type": "stream",
     "name": "stdout",
     "text": [
      "(1460, 81)\n"
     ]
    }
   ],
   "source": [
    "pd.set_option('display.float_format','{:.3f}'.format)\n",
    "pd.set_option('display.max_columns', 100)\n",
    "pd.set_option('display.max_rows', 100)\n",
    "\n",
    "df = pd.read_csv(\"../data/01_raw/data.csv\")\n",
    "print(df.shape)"
   ]
  },
  {
   "cell_type": "code",
   "execution_count": 92,
   "metadata": {},
   "outputs": [
    {
     "output_type": "stream",
     "name": "stdout",
     "text": [
      "0.88248 ('GarageArea', 'GarageCars')\n0.82567 ('GarageYrBlt', 'YearBuilt')\n0.82549 ('GrLivArea', 'TotRmsAbvGrd')\n0.81953 ('TotalBsmtSF', '1stFlrSF')\n0.79098 ('OverallQual', 'SalePrice')\n0.70862 ('SalePrice', 'GrLivArea')\n0.68750 ('2ndFlrSF', 'GrLivArea')\n0.67662 ('TotRmsAbvGrd', 'BedroomAbvGr')\n0.64921 ('BsmtFullBath', 'BsmtFinSF1')\n0.64228 ('YearRemodAdd', 'GarageYrBlt')\n"
     ]
    }
   ],
   "source": [
    "get_corr_pairs(df, 10)"
   ]
  },
  {
   "cell_type": "code",
   "execution_count": 92,
   "metadata": {},
   "outputs": [],
   "source": [
    "\n"
   ]
  },
  {
   "cell_type": "code",
   "execution_count": 93,
   "metadata": {},
   "outputs": [],
   "source": [
    "cat_cols = df.select_dtypes(include=\"O\").columns\n",
    "num_cols = df.select_dtypes(exclude=\"O\").columns"
   ]
  },
  {
   "cell_type": "code",
   "execution_count": 94,
   "metadata": {},
   "outputs": [],
   "source": [
    "df.loc[:,cat_cols] = df.loc[:,cat_cols].fillna(\"NaN\", axis=1)\n",
    "df.loc[:,[\"MasVnrArea\"]] = df.loc[:,[\"MasVnrArea\"]].fillna(0.0)\n",
    "df[\"GarageYrBlt\"] = np.where(df[\"GarageYrBlt\"].isna(), df[\"YearBuilt\"], df[\"GarageYrBlt\"])\n",
    "df[\"LotFrontage\"] = np.where(df[\"LotFrontage\"].isna(), df[\"YearBuilt\"].mean(), df[\"LotFrontage\"])"
   ]
  },
  {
   "cell_type": "code",
   "execution_count": 95,
   "metadata": {},
   "outputs": [
    {
     "output_type": "execute_result",
     "data": {
      "text/plain": [
       "Utilities     99.932\n",
       "Street        99.589\n",
       "PoolQC        99.521\n",
       "Condition2    98.973\n",
       "RoofMatl      98.219\n",
       "Heating       97.808\n",
       "MiscFeature   96.301\n",
       "LandSlope     94.658\n",
       "Alley         93.767\n",
       "CentralAir    93.493\n",
       "Functional    93.151\n",
       "PavedDrive    91.781\n",
       "Electrical    91.370\n",
       "GarageCond    90.822\n",
       "GarageQual    89.795\n",
       "dtype: float64"
      ]
     },
     "metadata": {},
     "execution_count": 95
    }
   ],
   "source": [
    "major_values(df[cat_cols],15)"
   ]
  },
  {
   "cell_type": "code",
   "execution_count": 96,
   "metadata": {},
   "outputs": [],
   "source": [
    "# Prevent warning : SettingWithCopyWarning\n",
    "#with pd.option_context('mode.chained_assignment',None):\n",
    "df.drop(major_values(df[cat_cols],15).index, axis=1, inplace=True)"
   ]
  },
  {
   "cell_type": "code",
   "execution_count": 97,
   "metadata": {},
   "outputs": [],
   "source": [
    "_ = [\n",
    "    'Id',\n",
    "    'MSSubClass',\n",
    "    'LotFrontage',\n",
    "    'OverallQual',\n",
    "    'YearBuilt',\n",
    "    'YearRemodAdd',\n",
    "    'MasVnrArea',\n",
    "    'BsmtFinSF2',\n",
    "    'BsmtUnfSF',\n",
    "    'LowQualFinSF',\n",
    "    'GrLivArea',\n",
    "    'Fireplaces',\n",
    "    'GarageYrBlt',\n",
    "    'WoodDeckSF',\n",
    "    'OpenPorchSF',\n",
    "    'EnclosedPorch',\n",
    "    '3SsnPorch',\n",
    "    'ScreenPorch',\n",
    "    'MoSold',\n",
    "    'YrSold'\n",
    "]\n",
    "\n",
    "df.drop(_, axis=1, inplace=True)"
   ]
  },
  {
   "cell_type": "code",
   "execution_count": 98,
   "metadata": {},
   "outputs": [],
   "source": [
    "y = df.SalePrice\n",
    "df_features = df.columns[:-1]\n",
    "X = df[df_features]"
   ]
  },
  {
   "cell_type": "code",
   "execution_count": 99,
   "metadata": {},
   "outputs": [],
   "source": [
    "le = LabelEncoder()\n",
    "X_2 = X.apply(le.fit_transform)"
   ]
  },
  {
   "cell_type": "code",
   "execution_count": 100,
   "metadata": {},
   "outputs": [
    {
     "output_type": "stream",
     "name": "stdout",
     "text": [
      "Training set : R2 = 0.829, RMSE = 32271.381\nTesting  set : R2 = 0.809, RMSE = 36917.141\n\n\n"
     ]
    }
   ],
   "source": [
    "get_model_metrics(LinearRegression(), X_2, y, b1=False, b2=False)"
   ]
  },
  {
   "cell_type": "code",
   "execution_count": 101,
   "metadata": {},
   "outputs": [
    {
     "output_type": "stream",
     "name": "stdout",
     "text": [
      "Training set : R2 = 0.829, RMSE = 32312.096\nTesting  set : R2 = 0.81, RMSE = 36836.176\n\n\n"
     ]
    }
   ],
   "source": [
    "get_model_metrics(RidgeCV(), X_2, y, b1=False, b2=False)"
   ]
  },
  {
   "cell_type": "code",
   "execution_count": 102,
   "metadata": {},
   "outputs": [
    {
     "output_type": "stream",
     "name": "stdout",
     "text": [
      "Training set : R2 = 0.726, RMSE = 40873.28\nTesting  set : R2 = 0.766, RMSE = 40884.075\n\n\n"
     ]
    }
   ],
   "source": [
    "get_model_metrics(LassoCV(), X_2, y, b1=False, b2=False)"
   ]
  }
 ]
}